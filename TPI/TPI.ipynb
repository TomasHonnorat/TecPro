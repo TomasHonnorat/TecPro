{
 "cells": [
  {
   "cell_type": "markdown",
   "id": "a619578f",
   "metadata": {},
   "source": [
    "# **Sistema de Gestión de Servicios y Pasajes – ArgentinaTur**"
   ]
  },
  {
   "cell_type": "code",
   "execution_count": null,
   "id": "d16a353d",
   "metadata": {},
   "outputs": [],
   "source": []
  }
 ],
 "metadata": {
  "language_info": {
   "name": "python"
  }
 },
 "nbformat": 4,
 "nbformat_minor": 5
}
