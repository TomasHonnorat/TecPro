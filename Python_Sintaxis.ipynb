{
 "cells": [
  {
   "cell_type": "markdown",
   "metadata": {},
   "source": [
    "### **Operaciones básicas**"
   ]
  },
  {
   "cell_type": "code",
   "execution_count": null,
   "metadata": {},
   "outputs": [],
   "source": [
    "# Comentario\n",
    "\n",
    "# Declarar y definir variables, python infiere el tipo automaticamente\n",
    "x = 32\n",
    "y = 3.1415\n",
    "nombre = \"Pepe\"\n",
    "\n",
    "# Inputs\n",
    "edad = input(\"Ingresá tu edad: \")       # Cuidado input retorna siempre un string\n",
    "edad = int(input(\"Ingresá tu edad: \"))  # Cast al tipo de dato deseado\n",
    "\n",
    "# Cast\n",
    "x = int(\"123\")     # x = 123\n",
    "y = float(\"3.14\")  # y = 3.14\n",
    "s = str(42)        # s = \"42\"\n",
    "b = bool(0)        # False\n",
    "b = bool(5)        # True\n",
    "bool(\"Hola\")       # True\n",
    "bool(\"\")           # False\n",
    "\n",
    "# Outputs\n",
    "print(\"Hello World!\")\n",
    "\n",
    "# Imprimir variables\n",
    "print(f\"Me llamo {nombre} y tengo {edad} años\")                  # f-strings\n",
    "print(\"Me llamo \" + nombre + \" y tengo \" + str(edad) + \" años.\") # Concatenando (todos deben ser string)\n",
    "print(\"Me llamo {} y tengo {} años.\".format(nombre, edad))       # Usando .format()\n",
    "\n",
    "# Divisiones\n",
    "valor = 51\n",
    "parte_entera = valor // 2   # División entera       # retorna 25\n",
    "resto = valor % 2           # Resto de la division  # retorna 1"
   ]
  },
  {
   "cell_type": "markdown",
   "metadata": {},
   "source": [
    "### **Condicionales**"
   ]
  },
  {
   "cell_type": "code",
   "execution_count": null,
   "metadata": {},
   "outputs": [],
   "source": [
    "# if\n",
    "x = 10\n",
    "if x > 0:\n",
    "    print(\"Positivo\")\n",
    "elif x == 0:\n",
    "    print(\"Cero\")\n",
    "else:\n",
    "    print(\"Negativo\")\n",
    "\n",
    "# negar\n",
    "if not (x % 2):\n",
    "    print(f\"{x} Es par!\")"
   ]
  },
  {
   "cell_type": "markdown",
   "metadata": {},
   "source": [
    "### **Bucles (** *for, while* **)**\n",
    "\n",
    "El alcance se define mediante las tabulaciones"
   ]
  },
  {
   "cell_type": "code",
   "execution_count": null,
   "metadata": {},
   "outputs": [],
   "source": [
    "# Bucle for\n",
    "for i in range(5): \n",
    "    print(i)\n",
    "\n",
    "# range(fin)\n",
    "# range(inicio, fin)\n",
    "# range(inicio, fin, paso)\n",
    "\n",
    "# Bucle while\n",
    "i = 0\n",
    "while i < 5:\n",
    "    print(i)\n",
    "    i += 1"
   ]
  }
 ],
 "metadata": {
  "kernelspec": {
   "display_name": "Python 3",
   "language": "python",
   "name": "python3"
  },
  "language_info": {
   "codemirror_mode": {
    "name": "ipython",
    "version": 3
   },
   "file_extension": ".py",
   "mimetype": "text/x-python",
   "name": "python",
   "nbconvert_exporter": "python",
   "pygments_lexer": "ipython3",
   "version": "3.13.2"
  }
 },
 "nbformat": 4,
 "nbformat_minor": 2
}
