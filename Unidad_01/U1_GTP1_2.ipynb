{
  "nbformat": 4,
  "nbformat_minor": 0,
  "metadata": {
    "colab": {
      "provenance": []
    },
    "kernelspec": {
      "name": "python3",
      "display_name": "Python 3"
    },
    "language_info": {
      "name": "python"
    }
  },
  "cells": [
    {
      "cell_type": "markdown",
      "source": [
        "# Guia de Trabajos Prácticos 2: Paradigma Iterativo\n",
        "\n",
        "## Introducción\n",
        "El paradigma de programación iterativa se basa en la repetición de un conjunto de instrucciones hasta que se cumple una condición específica. Este enfoque permite a los programas realizar tareas complejas con una cantidad mínima de código, mediante el uso de bucles como for, while, o do-while. A través de la iteración, podemos manejar fácilmente tareas que involucran procesamiento de datos en masa, como calcular sumas acumulativas, buscar elementos en estructuras de datos, o aplicar operaciones a elementos de arrays y listas. Dominar la programación iterativa es esencial para cualquier desarrollador, ya que mejora la eficiencia del código y permite resolver problemas prácticos de manera más efectiva.\n",
        "## Objetivo\n",
        "El objetivo de esta guía es aplicar bucles para realizar tareas repetitivas, manejar colecciones de datos y procesar entradas del usuario de manera eficiente. Estos ejercicios están diseñados para repasar la comprensión de los conceptos fundamentales de la iteración y pensar en términos de procesos repetitivos.\n"
      ],
      "metadata": {
        "id": "YYC7PNd_tjyh"
      }
    },
    {
      "cell_type": "markdown",
      "source": [
        "### Ejercicio 1: Conteo hasta N\n",
        "\n",
        "Escribe un programa que pida al usuario un número N y luego cuente desde 1 hasta N."
      ],
      "metadata": {
        "id": "A2neb4Xattu6"
      }
    },
    {
      "cell_type": "code",
      "source": [
        "N = int(input(\"Introduce un número N: \"))\n",
        "# Usa un bucle para contar desde 1 hasta N\n",
        "# Imprime cada número"
      ],
      "metadata": {
        "id": "TMedbGZht8Ud"
      },
      "execution_count": null,
      "outputs": []
    },
    {
      "cell_type": "markdown",
      "source": [
        "### Ejercicio 2: Suma de Números\n",
        "\n",
        "Desarrolla un programa que solicite al usuario N números y calcule su suma."
      ],
      "metadata": {
        "id": "wlONZV4Ft85H"
      }
    },
    {
      "cell_type": "code",
      "source": [
        "N = int(input(\"¿Cuántos números deseas sumar? \"))\n",
        "suma = 0\n",
        "# Usa un bucle para solicitar N números y sumarlos\n",
        "# Imprime la suma total"
      ],
      "metadata": {
        "id": "cpF7dHlzt_5X"
      },
      "execution_count": null,
      "outputs": []
    },
    {
      "cell_type": "markdown",
      "source": [
        "### Ejercicio 3: Media de Números\n",
        "\n",
        "Crea un programa que lea N números del usuario y calcule su media."
      ],
      "metadata": {
        "id": "J7VAhvesuARP"
      }
    },
    {
      "cell_type": "code",
      "source": [
        "N = int(input(\"¿Cuántos números deseas promediar? \"))\n",
        "suma = 0\n",
        "# Usa un bucle para solicitar N números, sumarlos y luego calcular la media\n",
        "# Imprime la media"
      ],
      "metadata": {
        "id": "YUJpOsvluDWP"
      },
      "execution_count": null,
      "outputs": []
    },
    {
      "cell_type": "markdown",
      "source": [
        "### Ejercicio 4: Encontrar el Máximo\n",
        "\n",
        "Escribe un programa que pida al usuario N números y encuentre el máximo de ellos."
      ],
      "metadata": {
        "id": "4gLekYiQuDse"
      }
    },
    {
      "cell_type": "code",
      "source": [
        "N = int(input(\"¿Cuántos números vas a introducir? \"))\n",
        "# Inicializa una variable para guardar el máximo valor\n",
        "# Usa un bucle para solicitar N números y encontrar el máximo\n",
        "# Imprime el número máximo"
      ],
      "metadata": {
        "id": "Qgh-7ts8uF9Y"
      },
      "execution_count": null,
      "outputs": []
    },
    {
      "cell_type": "markdown",
      "source": [
        "### Ejercicio 5: Tabla de Multiplicar\n",
        "\n",
        "Realiza un programa que genere y muestre la tabla de multiplicar de un número N introducido por el usuario."
      ],
      "metadata": {
        "id": "Ta5pLFKruGPw"
      }
    },
    {
      "cell_type": "code",
      "source": [
        "N = int(input(\"Introduce un número para generar su tabla de multiplicar: \"))\n",
        "# Usa un bucle para generar y mostrar la tabla de multiplicar de N"
      ],
      "metadata": {
        "id": "kzaZ1lR6uIzy"
      },
      "execution_count": null,
      "outputs": []
    },
    {
      "cell_type": "markdown",
      "source": [
        "### Ejercicio 6: Suma de Números Pares hasta N\n",
        "\n",
        "Escribe un programa que calcule la suma de todos los números pares hasta un número N."
      ],
      "metadata": {
        "id": "PgfEZNENuJOo"
      }
    },
    {
      "cell_type": "code",
      "source": [
        "N = int(input(\"Introduce un número N: \"))\n",
        "suma = 0\n",
        "# Usa un bucle para sumar todos los números pares hasta N\n",
        "# Imprime la suma de los números pares"
      ],
      "metadata": {
        "id": "59iXOuSjuLi9"
      },
      "execution_count": null,
      "outputs": []
    },
    {
      "cell_type": "markdown",
      "source": [
        "### Ejercicio 7: Contador de Dígitos\n",
        "\n",
        "Desarrolla un programa que cuente el número de dígitos de un número entero N."
      ],
      "metadata": {
        "id": "nk1IerlUuL4j"
      }
    },
    {
      "cell_type": "code",
      "source": [
        "N = int(input(\"Introduce un número entero N: \"))\n",
        "# Inicializa un contador\n",
        "# Usa un bucle para contar los dígitos de N\n",
        "# Imprime el número de dígitos"
      ],
      "metadata": {
        "id": "pmP8h242uOAf"
      },
      "execution_count": null,
      "outputs": []
    },
    {
      "cell_type": "markdown",
      "source": [
        "### Ejercicio 8: Conversión Binaria\n",
        "\n",
        "Escribe un programa que convierta un número entero N a binario."
      ],
      "metadata": {
        "id": "7gBJct1OuPcK"
      }
    },
    {
      "cell_type": "code",
      "source": [
        "N = int(input(\"Introduce un número entero N para convertirlo a binario: \"))\n",
        "# Usa un método para convertir N a binario\n",
        "# Imprime el resultado en binario"
      ],
      "metadata": {
        "id": "PQs8-vY1uxly"
      },
      "execution_count": null,
      "outputs": []
    }
  ]
}