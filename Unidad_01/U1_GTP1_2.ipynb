{
  "cells": [
    {
      "cell_type": "markdown",
      "metadata": {
        "id": "YYC7PNd_tjyh"
      },
      "source": [
        "# Guia de Trabajos Prácticos 2: Paradigma Iterativo\n",
        "\n",
        "## Introducción\n",
        "El paradigma de programación iterativa se basa en la repetición de un conjunto de instrucciones hasta que se cumple una condición específica. Este enfoque permite a los programas realizar tareas complejas con una cantidad mínima de código, mediante el uso de bucles como for, while, o do-while. A través de la iteración, podemos manejar fácilmente tareas que involucran procesamiento de datos en masa, como calcular sumas acumulativas, buscar elementos en estructuras de datos, o aplicar operaciones a elementos de arrays y listas. Dominar la programación iterativa es esencial para cualquier desarrollador, ya que mejora la eficiencia del código y permite resolver problemas prácticos de manera más efectiva.\n",
        "## Objetivo\n",
        "El objetivo de esta guía es aplicar bucles para realizar tareas repetitivas, manejar colecciones de datos y procesar entradas del usuario de manera eficiente. Estos ejercicios están diseñados para repasar la comprensión de los conceptos fundamentales de la iteración y pensar en términos de procesos repetitivos.\n"
      ]
    },
    {
      "cell_type": "markdown",
      "metadata": {
        "id": "A2neb4Xattu6"
      },
      "source": [
        "### Ejercicio 1: Conteo hasta N\n",
        "\n",
        "Escribe un programa que pida al usuario un número N y luego cuente desde 1 hasta N."
      ]
    },
    {
      "cell_type": "code",
      "execution_count": 2,
      "metadata": {
        "id": "TMedbGZht8Ud"
      },
      "outputs": [
        {
          "name": "stdout",
          "output_type": "stream",
          "text": [
            "1\n",
            "2\n",
            "3\n"
          ]
        }
      ],
      "source": [
        "N = int(input(\"Introduce un número N: \"))\n",
        "# Usa un bucle para contar desde 1 hasta N\n",
        "# Imprime cada número\n",
        "\n",
        "for i in range(N):\n",
        "    print(i+1)\n"
      ]
    },
    {
      "cell_type": "markdown",
      "metadata": {
        "id": "wlONZV4Ft85H"
      },
      "source": [
        "### Ejercicio 2: Suma de Números\n",
        "\n",
        "Desarrolla un programa que solicite al usuario N números y calcule su suma."
      ]
    },
    {
      "cell_type": "code",
      "execution_count": null,
      "metadata": {
        "id": "cpF7dHlzt_5X"
      },
      "outputs": [],
      "source": [
        "N = int(input(\"¿Cuántos números deseas sumar? \"))\n",
        "suma = 0\n",
        "# Usa un bucle para solicitar N números y sumarlos\n",
        "# Imprime la suma total\n",
        "\n",
        "for i in range(N):\n",
        "    suma += int(input(\"Ingrese el numero {i}\"))\n",
        "\n",
        "print(suma)"
      ]
    },
    {
      "cell_type": "markdown",
      "metadata": {
        "id": "J7VAhvesuARP"
      },
      "source": [
        "### Ejercicio 3: Media de Números\n",
        "\n",
        "Crea un programa que lea N números del usuario y calcule su media."
      ]
    },
    {
      "cell_type": "code",
      "execution_count": 6,
      "metadata": {
        "id": "YUJpOsvluDWP"
      },
      "outputs": [
        {
          "name": "stdout",
          "output_type": "stream",
          "text": [
            "El promedio es: 7.5\n"
          ]
        }
      ],
      "source": [
        "N = int(input(\"¿Cuántos números deseas promediar? \"))\n",
        "suma = 0\n",
        "# Usa un bucle para solicitar N números, sumarlos y luego calcular la media\n",
        "# Imprime la media\n",
        "\n",
        "for i in range(N):\n",
        "    suma += int(input(f\"Ingrese el numero {i}\"))\n",
        "\n",
        "print(f\"El promedio es: {suma/N}\")"
      ]
    },
    {
      "cell_type": "markdown",
      "metadata": {
        "id": "4gLekYiQuDse"
      },
      "source": [
        "### Ejercicio 4: Encontrar el Máximo\n",
        "\n",
        "Escribe un programa que pida al usuario N números y encuentre el máximo de ellos."
      ]
    },
    {
      "cell_type": "code",
      "execution_count": 9,
      "metadata": {
        "id": "Qgh-7ts8uF9Y"
      },
      "outputs": [
        {
          "name": "stdout",
          "output_type": "stream",
          "text": [
            "El maximo es: 30\n"
          ]
        }
      ],
      "source": [
        "N = int(input(\"¿Cuántos números vas a introducir? \"))\n",
        "# Inicializa una variable para guardar el máximo valor\n",
        "# Usa un bucle para solicitar N números y encontrar el máximo\n",
        "# Imprime el número máximo\n",
        "\n",
        "max = int(input(\"Ingrese el numero 1\"))\n",
        "for i in range(N-1):\n",
        "    aux = int(input(f\"Ingese el numero {i+2}\"))\n",
        "    if(aux > max):\n",
        "        max = aux\n",
        "\n",
        "print(f\"El maximo es: {max}\")\n",
        "\n"
      ]
    },
    {
      "cell_type": "markdown",
      "metadata": {
        "id": "Ta5pLFKruGPw"
      },
      "source": [
        "### Ejercicio 5: Tabla de Multiplicar\n",
        "\n",
        "Realiza un programa que genere y muestre la tabla de multiplicar de un número N introducido por el usuario."
      ]
    },
    {
      "cell_type": "code",
      "execution_count": 11,
      "metadata": {
        "id": "kzaZ1lR6uIzy"
      },
      "outputs": [
        {
          "name": "stdout",
          "output_type": "stream",
          "text": [
            "5 * 1 = 5\n",
            "5 * 2 = 10\n",
            "5 * 3 = 15\n",
            "5 * 4 = 20\n",
            "5 * 5 = 25\n",
            "5 * 6 = 30\n",
            "5 * 7 = 35\n",
            "5 * 8 = 40\n",
            "5 * 9 = 45\n"
          ]
        }
      ],
      "source": [
        "N = int(input(\"Introduce un número para generar su tabla de multiplicar: \"))\n",
        "# Usa un bucle para generar y mostrar la tabla de multiplicar de N\n",
        "\n",
        "for i in range(9):\n",
        "    print(f\"{N} * {i+1} = {N*(i+1)}\")"
      ]
    },
    {
      "cell_type": "markdown",
      "metadata": {
        "id": "PgfEZNENuJOo"
      },
      "source": [
        "### Ejercicio 6: Suma de Números Pares hasta N\n",
        "\n",
        "Escribe un programa que calcule la suma de todos los números pares hasta un número N."
      ]
    },
    {
      "cell_type": "code",
      "execution_count": 25,
      "metadata": {
        "id": "59iXOuSjuLi9"
      },
      "outputs": [
        {
          "name": "stdout",
          "output_type": "stream",
          "text": [
            "Suma de pares: 12\n"
          ]
        }
      ],
      "source": [
        "N = int(input(\"Introduce un número N: \"))\n",
        "suma = 0\n",
        "# Usa un bucle para sumar todos los números pares hasta N\n",
        "# Imprime la suma de los números pares\n",
        "\n",
        "for i in range(N+1):\n",
        "    if not (i % 2):\n",
        "        suma += i\n",
        "\n",
        "print(f\"Suma de pares: {suma}\")"
      ]
    },
    {
      "cell_type": "markdown",
      "metadata": {
        "id": "nk1IerlUuL4j"
      },
      "source": [
        "### Ejercicio 7: Contador de Dígitos\n",
        "\n",
        "Desarrolla un programa que cuente el número de dígitos de un número entero N."
      ]
    },
    {
      "cell_type": "code",
      "execution_count": null,
      "metadata": {
        "id": "pmP8h242uOAf"
      },
      "outputs": [
        {
          "name": "stdout",
          "output_type": "stream",
          "text": [
            "123456789 tiene 9 digitos\n"
          ]
        }
      ],
      "source": [
        "N = int(input(\"Introduce un número entero N: \"))\n",
        "# Inicializa un contador\n",
        "# Usa un bucle para contar los dígitos de N\n",
        "# Imprime el número de dígitos\n",
        "\n",
        "contador = 0\n",
        "N_abs = abs(N)\n",
        "\n",
        "while N_abs > 0:\n",
        "        N_abs //= 10  \n",
        "        contador += 1\n",
        "\n",
        "print(f\"{N} tiene {contador} digitos\")"
      ]
    },
    {
      "cell_type": "markdown",
      "metadata": {
        "id": "7gBJct1OuPcK"
      },
      "source": [
        "### Ejercicio 8: Conversión Binaria\n",
        "\n",
        "Escribe un programa que convierta un número entero N a binario."
      ]
    },
    {
      "cell_type": "code",
      "execution_count": 36,
      "metadata": {
        "id": "PQs8-vY1uxly"
      },
      "outputs": [
        {
          "name": "stdout",
          "output_type": "stream",
          "text": [
            "5 en binario es: 101\n"
          ]
        }
      ],
      "source": [
        "N = int(input(\"Introduce un número entero N para convertirlo a binario: \"))\n",
        "# Usa un método para convertir N a binario\n",
        "# Imprime el resultado en binario\n",
        "\n",
        "def mi_bin(n):\n",
        "    if n == 0:\n",
        "        return \"0\"\n",
        "    \n",
        "    binario = \"\"\n",
        "    negativo = n < 0\n",
        "    n = abs(n)\n",
        "\n",
        "    while n > 0:\n",
        "        resto = n % 2\n",
        "        binario = str(resto) + binario\n",
        "        n //= 2\n",
        "\n",
        "    if negativo:\n",
        "        binario = \"-\" + binario\n",
        "\n",
        "    return binario\n",
        "\n",
        "\n",
        "binario = mi_bin(N)\n",
        "\n",
        "print(f\"{N} en binario es: {binario}\")"
      ]
    }
  ],
  "metadata": {
    "colab": {
      "provenance": []
    },
    "kernelspec": {
      "display_name": "Python 3",
      "name": "python3"
    },
    "language_info": {
      "codemirror_mode": {
        "name": "ipython",
        "version": 3
      },
      "file_extension": ".py",
      "mimetype": "text/x-python",
      "name": "python",
      "nbconvert_exporter": "python",
      "pygments_lexer": "ipython3",
      "version": "3.13.2"
    }
  },
  "nbformat": 4,
  "nbformat_minor": 0
}
