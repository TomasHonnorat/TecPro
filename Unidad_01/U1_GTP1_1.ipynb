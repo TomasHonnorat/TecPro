{
  "cells": [
    {
      "cell_type": "markdown",
      "metadata": {
        "id": "uKDnMQadm82Y"
      },
      "source": [
        "# Guia de Trabajos Prácticos 1: Paradigma Secuencial\n",
        "\n",
        "### Introducción\n",
        "El paradigma de programación secuencial es uno de los conceptos más básicos, donde las instrucciones se ejecutan en orden, una tras otra, desde el inicio hasta el final del programa. Este enfoque permite a los programadores abordar problemas de manera estructurada, facilitando el análisis y la solución de los mismos mediante la descomposición en pasos sucesivos. Aprender a programar dentro de este paradigma no solo es crucial para los principiantes, sino que también sienta las bases para comprender paradigmas más complejos en el futuro.\n",
        "### Objetivo\n",
        "El objetivo de esta guía es proporcionar a los principiantes en programación una serie de ejercicios que les ayuden a entender y aplicar los principios básicos del paradigma de programación secuencial. A través de estos ejercicios, los estudiantes aprenderán a manejar entradas y salidas, realizar cálculos matemáticos simples, y aplicar lógica básica para resolver problemas comunes.\n"
      ]
    },
    {
      "cell_type": "markdown",
      "metadata": {
        "id": "RnnJOV5knT34"
      },
      "source": [
        "### Ejercicio 1: Calculadora de Edad\n",
        "\n",
        "Desarrolla un programa que pida al usuario su año de nacimiento y el año actual, y calcule su edad.\n"
      ]
    },
    {
      "cell_type": "code",
      "execution_count": 1,
      "metadata": {
        "id": "-wWpm8QuniH1"
      },
      "outputs": [
        {
          "name": "stdout",
          "output_type": "stream",
          "text": [
            "Edad : 24\n"
          ]
        }
      ],
      "source": [
        "nacimiento = int(input(\"Introduce tu año de nacimiento: \"))\n",
        "actual = int(input(\"Introduce el año actual: \"))\n",
        "\n",
        "# Calcula la edad del usuario\n",
        "print(\"Edad :\",actual - nacimiento)\n",
        "# Imprime la edad del usuario"
      ]
    },
    {
      "cell_type": "markdown",
      "metadata": {
        "id": "RYhst23coitk"
      },
      "source": [
        "### Ejercicio 2: Conversión de Segundos\n",
        "\n",
        "Realiza un programa que convierta un número de segundos introducidos por el usuario en horas, minutos y segundos."
      ]
    },
    {
      "cell_type": "code",
      "execution_count": null,
      "metadata": {
        "id": "HPOL0Nwiomej"
      },
      "outputs": [
        {
          "name": "stdout",
          "output_type": "stream",
          "text": [
            "Hora: 1\n",
            "Minutos: 3\n",
            "Segundos: 7\n"
          ]
        }
      ],
      "source": [
        "segundos = int(input(\"Introduce el número de segundos: \"))\n",
        "\n",
        "# Convierte los segundos a horas, minutos y segundos\n",
        "\n",
        "horas = segundos // 3600         # División entera para obtener las horas\n",
        "resto = segundos % 3600          # Obtenemos el resto de segundos tras calcular las horas\n",
        "minutos = resto // 60            # División entera para obtener los minutos\n",
        "segundos_restantes = resto % 60  # El resto son los segundos finales\n",
        "\n",
        "print(f\"Hora: {horas}\")\n",
        "print(f\"Minutos: {minutos}\")\n",
        "print(f\"Segundos: {segundos_restantes}\")\n",
        "# Imprime el resultado en formato de horas, minutos y segundos"
      ]
    },
    {
      "cell_type": "markdown",
      "metadata": {
        "id": "Yje1cnTQom1u"
      },
      "source": [
        "### Ejercicio 3: Calculadora de Raíces Cuadradas\n",
        "\n",
        "Crea un programa que calcule y muestre la raíz cuadrada de una serie de números introducidos por el usuario. El programa termina cuando el usuario introduce un número negativo."
      ]
    },
    {
      "cell_type": "code",
      "execution_count": null,
      "metadata": {
        "id": "C7Ox_p4coosL"
      },
      "outputs": [
        {
          "name": "stdout",
          "output_type": "stream",
          "text": [
            "Raiz Cuadrada: 4.0\n",
            "Raiz Cuadrada: 5.0\n",
            "Raiz Cuadrada: 5.0\n",
            "Raiz Cuadrada: 11.0\n"
          ]
        }
      ],
      "source": [
        "import math\n",
        "\n",
        "numero = float(input(\"Introduce un número (negativo para terminar): \"))\n",
        "\n",
        "# En un bucle, verifica si el número es negativo; si lo es, termina el bucle\n",
        "while(numero > 0) :\n",
        "    raiz = math.sqrt(numero)       # Calcula la raíz cuadrada del número\n",
        "    print(\"Raiz Cuadrada:\",  raiz) # Imprime la raíz cuadrada\n",
        "    numero = float(input(\"Introduce un número (negativo para terminar): \"))\n",
        "\n"
      ]
    },
    {
      "cell_type": "markdown",
      "metadata": {
        "id": "igiSURU3opBv"
      },
      "source": [
        "### Ejercicio 4: Cálculo del Índice de Masa Corporal (IMC)\n",
        "\n",
        "Crea un programa que solicite el peso en kilogramos y la altura en metros de una persona, calcule su IMC y lo clasifique según la tabla de IMC."
      ]
    },
    {
      "cell_type": "code",
      "execution_count": 8,
      "metadata": {
        "id": "_NWk0hTdorGV"
      },
      "outputs": [
        {
          "name": "stdout",
          "output_type": "stream",
          "text": [
            "26.29757785467128\n"
          ]
        }
      ],
      "source": [
        "peso = float(input(\"Introduce tu peso en kilogramos: \"))\n",
        "altura = float(input(\"Introduce tu altura en metros: \"))\n",
        "\n",
        "# Calcula el IMC\n",
        "print(peso/(altura*altura))\n",
        "# Imprime el IMC"
      ]
    },
    {
      "cell_type": "markdown",
      "metadata": {
        "id": "gpoBwyrAorQl"
      },
      "source": [
        "### Ejercicio 5: Conversión de Unidades\n",
        "\n",
        "Realiza un programa que convierta la temperatura de grados Celsius a Fahrenheit."
      ]
    },
    {
      "cell_type": "code",
      "execution_count": 10,
      "metadata": {
        "id": "icLBHz5cos0s"
      },
      "outputs": [
        {
          "name": "stdout",
          "output_type": "stream",
          "text": [
            "Fahrenheit:  89.6\n"
          ]
        }
      ],
      "source": [
        "celsius = float(input(\"Introduce la temperatura en grados Celsius: \"))\n",
        "\n",
        "# Convierte la temperatura a Fahrenheit\n",
        "print(\"Fahrenheit: \", celsius*(9/5)+32)\n",
        "# Imprime la temperatura en Fahrenheit"
      ]
    },
    {
      "cell_type": "markdown",
      "metadata": {
        "id": "d8m5nzQtotAH"
      },
      "source": [
        "### Ejercicio 6: Cálculo de Distancia de Viaje\n",
        "\n",
        "Escribe un programa que pida al usuario la velocidad promedio de un vehículo (en km/h) y el tiempo de viaje (en horas), y luego calcule la distancia total recorrida."
      ]
    },
    {
      "cell_type": "code",
      "execution_count": 11,
      "metadata": {
        "id": "8rQBadBWoukF"
      },
      "outputs": [
        {
          "name": "stdout",
          "output_type": "stream",
          "text": [
            "Distancia recorrida:  40.0\n"
          ]
        }
      ],
      "source": [
        "velocidad_promedio = float(input(\"Introduce la velocidad promedio en km/h: \"))\n",
        "tiempo_viaje = float(input(\"Introduce el tiempo de viaje en horas: \"))\n",
        "\n",
        "# Calcula la distancia total recorrida\n",
        "print(\"Distancia recorrida: \", velocidad_promedio*tiempo_viaje)\n",
        "# Imprime la distancia"
      ]
    },
    {
      "cell_type": "markdown",
      "metadata": {
        "id": "g-ptrzeuouvb"
      },
      "source": [
        "### Ejercicio 7: Presupuesto de Viaje\n",
        "\n",
        "Desarrolla un programa que solicite al usuario el costo por día de alquiler de un vehículo, el número de días de alquiler y el presupuesto para combustible, y luego calcule el costo total del viaje."
      ]
    },
    {
      "cell_type": "code",
      "execution_count": 12,
      "metadata": {
        "id": "L1lGLnnDowYS"
      },
      "outputs": [
        {
          "name": "stdout",
          "output_type": "stream",
          "text": [
            "Costo Total:  42.0\n"
          ]
        }
      ],
      "source": [
        "costo_dia_alquiler = float(input(\"Introduce el costo por día de alquiler del vehículo: \"))\n",
        "numero_dias = int(input(\"Introduce el número de días de alquiler: \"))\n",
        "presupuesto_combustible = float(input(\"Introduce el presupuesto para combustible: \"))\n",
        "\n",
        "# Calcula el costo total del viaje\n",
        "print(\"Costo Total: \", costo_dia_alquiler * numero_dias + presupuesto_combustible)\n",
        "# Imprime el costo total"
      ]
    },
    {
      "cell_type": "markdown",
      "metadata": {
        "id": "s8k3gaBpoxdV"
      },
      "source": [
        "### Ejercicio 8: Volumen de un Cilindro\n",
        "\n",
        "Crea un programa que calcule el volumen de un cilindro después de pedir al usuario el radio de la base y la altura del cilindro."
      ]
    },
    {
      "cell_type": "code",
      "execution_count": null,
      "metadata": {
        "id": "oYOuajaHoyEp"
      },
      "outputs": [
        {
          "name": "stdout",
          "output_type": "stream",
          "text": [
            "Volumen Cilindro:  50.26548245743669\n"
          ]
        }
      ],
      "source": [
        "import math\n",
        "\n",
        "radio = float(input(\"Introduce el radio de la base del cilindro: \"))\n",
        "altura = float(input(\"Introduce la altura del cilindro: \"))\n",
        "\n",
        "# Calcula el volumen del cilindro\n",
        "print(\"El Volumen del Cilindro es: \", math.pi*radio*radio*altura)\n",
        "# Imprime el volumen"
      ]
    }
  ],
  "metadata": {
    "colab": {
      "provenance": []
    },
    "kernelspec": {
      "display_name": "Python 3",
      "name": "python3"
    },
    "language_info": {
      "codemirror_mode": {
        "name": "ipython",
        "version": 3
      },
      "file_extension": ".py",
      "mimetype": "text/x-python",
      "name": "python",
      "nbconvert_exporter": "python",
      "pygments_lexer": "ipython3",
      "version": "3.13.2"
    }
  },
  "nbformat": 4,
  "nbformat_minor": 0
}
