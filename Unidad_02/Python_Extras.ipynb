{
  "cells": [
    {
      "cell_type": "markdown",
      "metadata": {
        "id": "cE7XUlvebbSj"
      },
      "source": [
        "# Material de apoyo"
      ]
    },
    {
      "cell_type": "markdown",
      "metadata": {
        "id": "Ww0tM-WKjX61"
      },
      "source": [
        "## Métodos Privados en Python\n",
        "\n",
        "Los métodos privados son aquellos que están destinados a ser utilizados internamente dentro de una clase y no deben ser accedidos desde fuera de la clase. Aunque Python no tiene verdaderos métodos privados como en otros lenguajes como C++, se sigue una convención de nomenclatura para identificarlos.\n",
        "\n",
        "Los métodos privados en Python se nombran con uno o dos guiones bajos `_` como prefijo en el nombre del método. Esta convención indica que el método es privado y *no debe* ser accedido desde fuera de la clase.\n",
        "\n",
        "A pesar de que *los métodos privados pueden ser accedidos desde fuera de la clase*, la convención de nomenclatura indica que no deberían ser accedidos directamente.\n",
        "\n",
        "Si se quiere evitar su uso accidental, puede utilizarse el doble guión bajo ([name mangling](https://www.geeksforgeeks.org/name-mangling-in-python/)) para que el acceso se torne un poco más complejo por parte del usuario. Ejemplo:\n"
      ]
    },
    {
      "cell_type": "code",
      "execution_count": null,
      "metadata": {
        "colab": {
          "base_uri": "https://localhost:8080/"
        },
        "id": "PyMa5oDekAEd",
        "outputId": "138266c2-73ec-4165-b9b2-e258e8547578"
      },
      "outputs": [
        {
          "name": "stdout",
          "output_type": "stream",
          "text": [
            "Este es un método público\n",
            "Accediendo al método privado con name mangling desde dentro de la clase: Este es un método privado (con name mangling)\n",
            "Accediendo al método privado sin name mangling desde dentro de la clase: Este es un método privado (sin name mangling)\n",
            "Intentando acceder al método privado sin name mangling desde fuera de la clase: Este es un método privado (sin name mangling)\n"
          ]
        }
      ],
      "source": [
        "class MiClase:\n",
        "    def __init__(self):\n",
        "        self.__atributo_privado = 42  # Atributo privado con doble guion bajo\n",
        "\n",
        "    def _metodo_privado_snm(self):  # un guion bajo al inicio\n",
        "        return \"Este es un método privado (sin name mangling)\"\n",
        "\n",
        "    def __metodo_privado_cnm(self):  # dos guiones bajos al inicio\n",
        "        return \"Este es un método privado (con name mangling)\"\n",
        "\n",
        "    def metodo_publico(self):\n",
        "        print(\"Este es un método público\")\n",
        "        print(\"Accediendo al método privado con name mangling desde dentro de la clase:\", self.__metodo_privado_cnm())\n",
        "        print(\"Accediendo al método privado sin name mangling desde dentro de la clase:\", self._metodo_privado_snm())\n",
        "\n",
        "# Crear una instancia de la clase\n",
        "objeto = MiClase()\n",
        "\n",
        "# Acceder al método público\n",
        "objeto.metodo_publico()\n",
        "\n",
        "# Intentar acceder al método privado desde fuera de la clase (no es recomendado)\n",
        "# Esto funcionará técnicamente, pero no es una práctica recomendada\n",
        "print(\"Intentando acceder al método privado sin name mangling desde fuera de la clase:\", objeto._metodo_privado_snm())  # Funciona"
      ]
    },
    {
      "cell_type": "code",
      "execution_count": null,
      "metadata": {
        "colab": {
          "base_uri": "https://localhost:8080/",
          "height": 147
        },
        "id": "LTLuNXTflFsx",
        "outputId": "19220b2e-bed5-4bfc-8c4c-36ae803e714b"
      },
      "outputs": [
        {
          "ename": "AttributeError",
          "evalue": "'MiClase' object has no attribute '__metodo_privado_cnm'",
          "output_type": "error",
          "traceback": [
            "\u001b[0;31m---------------------------------------------------------------------------\u001b[0m",
            "\u001b[0;31mAttributeError\u001b[0m                            Traceback (most recent call last)",
            "\u001b[0;32m<ipython-input-7-cac25532262f>\u001b[0m in \u001b[0;36m<cell line: 1>\u001b[0;34m()\u001b[0m\n\u001b[0;32m----> 1\u001b[0;31m \u001b[0mprint\u001b[0m\u001b[0;34m(\u001b[0m\u001b[0;34m\"Intentando acceder al método privado con name mangling desde fuera de la clase:\"\u001b[0m\u001b[0;34m,\u001b[0m \u001b[0mobjeto\u001b[0m\u001b[0;34m.\u001b[0m\u001b[0m__metodo_privado_cnm\u001b[0m\u001b[0;34m(\u001b[0m\u001b[0;34m)\u001b[0m\u001b[0;34m)\u001b[0m  \u001b[0;31m# No funciona\u001b[0m\u001b[0;34m\u001b[0m\u001b[0;34m\u001b[0m\u001b[0m\n\u001b[0m",
            "\u001b[0;31mAttributeError\u001b[0m: 'MiClase' object has no attribute '__metodo_privado_cnm'"
          ]
        }
      ],
      "source": [
        "print(\"Intentando acceder al método privado con name mangling desde fuera de la clase:\", objeto.__metodo_privado_cnm())  # No funciona"
      ]
    },
    {
      "cell_type": "markdown",
      "metadata": {
        "id": "S1CaTSMllIGB"
      },
      "source": [
        "cuando se utiliza name mangling, se puede acceder de todas formas (aunque no es lo recomendable) haciendo:"
      ]
    },
    {
      "cell_type": "code",
      "execution_count": null,
      "metadata": {
        "colab": {
          "base_uri": "https://localhost:8080/"
        },
        "id": "bHCZPysBlCk5",
        "outputId": "0699f7ea-8ca5-4127-8ac8-022c29cedc6e"
      },
      "outputs": [
        {
          "name": "stdout",
          "output_type": "stream",
          "text": [
            "Intentando acceder al método privado con name mangling desde fuera de la clase: Este es un método privado (con name mangling)\n"
          ]
        }
      ],
      "source": [
        "print(\"Intentando acceder al método privado con name mangling desde fuera de la clase:\", objeto._MiClase__metodo_privado_cnm())"
      ]
    },
    {
      "cell_type": "markdown",
      "metadata": {
        "id": "vh19MvEubUdc"
      },
      "source": [
        "## Uso de listas en Python\n",
        "\n",
        "En Python, las listas son una estructura de datos flexible y poderosa que puede contener una colección ordenada de elementos. Se pueden crear listas utilizando corchetes `[]` y separando los elementos por comas. Aquí hay algunos ejemplos de cómo trabajar con listas en Python:\n",
        "\n",
        "### Crear una lista\n",
        "\n"
      ]
    },
    {
      "cell_type": "code",
      "execution_count": null,
      "metadata": {
        "id": "p6-gaEpfgGFp"
      },
      "outputs": [],
      "source": [
        "# Crear una lista vacía\n",
        "lista_vacia = []\n",
        "\n",
        "# Crear una lista con elementos\n",
        "numeros = [1, 2, 3, 4, 5]\n",
        "nombres = [\"Juan\", \"María\", \"Carlos\"]\n",
        "\n",
        "# Listas pueden contener diferentes tipos de datos\n",
        "mixta = [1, \"dos\", 3.0, True]"
      ]
    },
    {
      "cell_type": "code",
      "execution_count": null,
      "metadata": {
        "colab": {
          "base_uri": "https://localhost:8080/"
        },
        "id": "PuUxFk0MbgCm",
        "outputId": "6e001295-2306-4016-959a-bab0478adece"
      },
      "outputs": [
        {
          "name": "stdout",
          "output_type": "stream",
          "text": [
            "1\n",
            "María\n",
            "5\n"
          ]
        }
      ],
      "source": [
        "# Acceder a elementos por su índice (comenzando desde 0)\n",
        "print(numeros[0])  # Salida: 1\n",
        "print(nombres[1])  # Salida: María\n",
        "\n",
        "# Acceder a elementos desde el final con índices negativos\n",
        "print(numeros[-1])  # Salida: 5"
      ]
    },
    {
      "cell_type": "code",
      "execution_count": null,
      "metadata": {
        "colab": {
          "base_uri": "https://localhost:8080/"
        },
        "id": "JAYNCczobjWO",
        "outputId": "a19cf496-96fd-4671-9b34-1bf43cc1ac10"
      },
      "outputs": [
        {
          "name": "stdout",
          "output_type": "stream",
          "text": [
            "[10, 2, 3, 4, 5]\n",
            "[10, 2, 3, 4, 5, 6]\n"
          ]
        }
      ],
      "source": [
        "numeros[0] = 10\n",
        "print(numeros)  # Salida: [10, 2, 3, 4, 5]\n",
        "\n",
        "# Agregar elementos al final de la lista\n",
        "numeros.append(6)\n",
        "print(numeros)  # Salida: [10, 2, 3, 4, 5, 6]"
      ]
    },
    {
      "cell_type": "code",
      "execution_count": null,
      "metadata": {
        "colab": {
          "base_uri": "https://localhost:8080/"
        },
        "id": "kHCe_4Q-bmZW",
        "outputId": "c621ec41-200b-4cfb-fd18-4cb88c8a5d39"
      },
      "outputs": [
        {
          "name": "stdout",
          "output_type": "stream",
          "text": [
            "3\n",
            "Juan\n",
            "María\n",
            "Carlos\n"
          ]
        }
      ],
      "source": [
        "# Obtener la longitud de la lista\n",
        "print(len(nombres))  # Salida: 3\n",
        "\n",
        "# Iterar sobre los elementos de la lista\n",
        "for nombre in nombres:\n",
        "    print(nombre)"
      ]
    },
    {
      "cell_type": "markdown",
      "metadata": {
        "id": "ha9ZVN5wbosA"
      },
      "source": [
        "Las listas en Python son dinámicas y pueden contener cualquier tipo de datos, lo que las hace muy versátiles."
      ]
    },
    {
      "cell_type": "markdown",
      "metadata": {
        "id": "UBN-_tiqtpG3"
      },
      "source": [
        "## ¿Por qué definir el main?\n",
        "\n",
        "En este video (pensado para Python 2 pero el concepto sigue vigente), se muestra la importancia de definir el main en un script de Python, ya que, como habrán visto, en algunos casos da igual definirlo o no.\n",
        "\n",
        "La cosa cambia cuando queremos importar código definido en otros scripts, y ahí el main sí cobra importancia, ya que no siempre pensamos ejecutar el script, sino importarlo para utilizar definiciones del mismo.\n",
        "\n",
        "El enlace del video es: https://youtu.be/sugvnHA7ElY. Está en inglés pero tiene subtítulos."
      ]
    },
    {
      "cell_type": "markdown",
      "metadata": {
        "id": "XIu2kQ6ZTDR9"
      },
      "source": [
        "## Convenciones de nombres\n",
        "\n",
        "Como habrás notado, en los diagramas UML se suele utilizar *lower camel case* (por ejemplo 'nombreDeVariable') para los nombres de las variables, funciones, atributos y métododos, pero en algunos ejemplos de código aparece otra convención ('nombre_de_variable'). Esto se debe a que en el caso de los diagramas UML, se siguen ciertas convenciones (leer la sección 7.5 \"UML Class Notation\" del [libro de Arlow](http://e-fich.unl.edu.ar/moodle/mod/page/view.php?id=106271)).\n",
        "\n",
        "Sin embargo, en cada lenguaje se puede establecer otra convención. En el caso de Python, en el [PEP 8](https://peps.python.org/pep-0008/), se definen convenciones de estilo de código. Recomendamos leer un resumen del mismo en esta página: https://ellibrodepython.com/python-pep8.\n",
        "\n",
        "\n"
      ]
    },
    {
      "cell_type": "markdown",
      "metadata": {
        "id": "4P2CMig60yQ9"
      },
      "source": [
        "## Tipado en Python\n",
        "\n",
        "A pesar de que no sea necesario definir el tipo de cada variable en Python, desde Python 3.5 se agregó soporte a las *anotaciones de tipado* para algunos casos en donde es conveniente explicitar a qué clase pertenece, por ejemplo, un argumento de una función, como en el ejercicio 8:\n",
        "\n",
        "```\n",
        "def listar_empleados_por_jefe(o_jefe: Jefe):\n",
        "    ...\n",
        "```\n",
        "\n",
        "En este caso se espera que o_jefe sea una instancia de la clase `Jefe`.\n",
        "\n",
        "Leer la documentación ([Inglés](https://docs.python.org/3/library/typing.html)/[español](https://docs.python.org/es/3.8/library/typing.html)) para más información."
      ]
    },
    {
      "cell_type": "markdown",
      "metadata": {
        "id": "FVF20iUY_dJ9"
      },
      "source": [
        "## Funciones útiles\n",
        "\n",
        "Aquí una breve descripción de funciones que pueden ser de utilidad para esta unidad:\n",
        "\n",
        "### `isinstance`\n",
        "\n",
        "La función `isinstance` se utiliza para determinar si un objeto es una instancia de una clase o de una clase que hereda de otra clase. Esto es útil cuando necesitas realizar operaciones específicas según el tipo de objeto con el que estás tratando.\n",
        "\n",
        "```python\n",
        "class Animal:\n",
        "    pass\n",
        "\n",
        "class Perro(Animal):\n",
        "    pass\n",
        "\n",
        "d = Perro()\n",
        "print(isinstance(d, Perro))   # Salida: True\n",
        "print(isinstance(d, Animal))  # Salida: True\n",
        "```\n",
        "\n",
        "Documentación: [Función `isinstance`](https://docs.python.org/3/library/functions.html#isinstance)\n",
        "\n",
        "---\n",
        "\n",
        "### `issubclass`\n",
        "\n",
        "La función `issubclass` se utiliza para determinar si una clase es una subclase de otra clase. Es útil cuando necesitas verificar las relaciones de herencia entre clases.\n",
        "\n",
        "```python\n",
        "class Animal:\n",
        "    pass\n",
        "\n",
        "class Perro(Animal):\n",
        "    pass\n",
        "\n",
        "print(issubclass(Perro, Animal))  # Salida: True\n",
        "```\n",
        "\n",
        "Documentación: [Función `issubclass`](https://docs.python.org/3/library/functions.html#issubclass)\n",
        "\n",
        "---\n",
        "\n",
        "\n",
        "### `super`\n",
        "\n",
        "La función `super` se utiliza para acceder a métodos y atributos de la clase base desde una subclase que lo ha sobrescrito. Esto es útil cuando necesitas llamar al constructor de la clase base u otros métodos de la clase base.\n",
        "\n",
        "```python\n",
        "class Animal:\n",
        "    def hacer_sonido(self):\n",
        "        return \"Grrr\"\n",
        "\n",
        "class Perro(Animal):\n",
        "    def hacer_sonido(self):\n",
        "        return super().hacer_sonido() + \" Woof!\"\n",
        "\n",
        "d = Perro()\n",
        "print(d.hacer_sonido())  # Salida: Grrr Woof!\n",
        "```\n",
        "\n",
        "Documentación: [Función `super`](https://docs.python.org/3/library/functions.html#super)\n",
        "\n",
        "---\n",
        "\n",
        "\n",
        "#### `__str__` y `__repr__`\n",
        "\n",
        "En Python, `__str__` y `__repr__` son métodos especiales utilizados para definir cómo se debe representar una instancia de una clase en forma de cadena. Aunque pueden parecer similares, tienen propósitos ligeramente diferentes:\n",
        "\n",
        "- `__str__`: Este método devuelve una representación legible para humanos de un objeto. Es utilizado por la función `str()` y por la función `print()` cuando se quiere obtener una versión \"amigable\" del objeto.\n",
        "\n",
        "- `__repr__`: Este método devuelve una representación sin ambigüedades del objeto, preferiblemente algo que permita crear una instancia igual al objeto original. Es utilizado por la función `repr()` y por el intérprete cuando se muestra un objeto como el resultado de una expresión.\n",
        "\n",
        "La principal diferencia radica en la intención de uso: `__str__` se utiliza para mostrar información legible para humanos, mientras que `__repr__` se utiliza para representar la forma precisa del objeto, útil para propósitos de depuración y reproducción del objeto.\n",
        "\n",
        "**Ejemplo de diferencia:**\n",
        "\n",
        "```python\n",
        "class Punto:\n",
        "    def __init__(self, x, y):\n",
        "        self.x = x\n",
        "        self.y = y\n",
        "\n",
        "    def __str__(self):\n",
        "        return f'({self.x}, {self.y})'\n",
        "\n",
        "    def __repr__(self):\n",
        "        return f'Punto({self.x}, {self.y})'\n",
        "\n",
        "p = Punto(3, 4)\n",
        "print(str(p))   # Salida: (3, 4)\n",
        "print(repr(p))  # Salida: Punto(3, 4)\n",
        "```\n",
        "\n",
        "En este ejemplo, `__str__` devuelve una representación legible para humanos `(3, 4)`, mientras que `__repr__` devuelve una representación más precisa y útil para recrear el objeto `Punto(3, 4)`."
      ]
    },
    {
      "cell_type": "markdown",
      "metadata": {
        "id": "fMURf4Wf0Fbv"
      },
      "source": [
        "## Interfaces en Python\n",
        "\n",
        "A diferencia de otros lenguajes como Java que poseen una sintaxis especial para este tipo de abstracciones, en Python podemos definir interfaces de la siguiente manera:\n",
        "\n",
        "```python\n",
        "# Importar ABC (Abstract Base Classes) del módulo abc\n",
        "from abc import ABC, abstractmethod\n",
        "\n",
        "# Definición de la interfaz en Python\n",
        "class Animal(ABC):\n",
        "    @abstractmethod\n",
        "    def hacer_sonido(self):\n",
        "        pass\n",
        "\n",
        "# Clase que implementa la interfaz en Python\n",
        "class Perro(Animal):\n",
        "    def hacer_sonido(self):\n",
        "        print(\"Guau!\")\n",
        "\n",
        "# Clase que utiliza la interfaz en Python\n",
        "if __name__ == \"__main__\":\n",
        "    animal = Perro()\n",
        "    animal.hacer_sonido()  # Salida: Guau!\n",
        "```\n",
        "\n",
        "en este caso, `Animal` cumple el rol de una interfaz, que contiene un método `hacer_sonido` que debe ser deifnido por las clases que implementen la misma.\n",
        "\n",
        "Notar que una interfaz define un conjunto de métodos que una clase debe implementar. Si bien Python permite que en una interfaz definamos atributos, esto no sería correcto teóricamente, por lo que hay que tener en cuenta que los mismos deben estar declarados en las clases que implementen dicha interfaz.\n",
        "\n",
        "Además, se pueden implementar varias interfaces dentro de una misma clase a través de la herencia múltiple. Consultar en la documentación oficial de Python (https://docs.python.org/3/tutorial/classes.html#multiple-inheritance), y el siguiente artículo: [https://medium.com/@shashikantrbl123/interfaces-and-abstract-classes-in-python-understanding-the-differences-3e5889a0746a](http://archive.today/M2XTh)"
      ]
    }
  ],
  "metadata": {
    "colab": {
      "provenance": []
    },
    "kernelspec": {
      "display_name": "Python 3",
      "name": "python3"
    },
    "language_info": {
      "codemirror_mode": {
        "name": "ipython",
        "version": 3
      },
      "file_extension": ".py",
      "mimetype": "text/x-python",
      "name": "python",
      "nbconvert_exporter": "python",
      "pygments_lexer": "ipython3",
      "version": "3.13.2"
    }
  },
  "nbformat": 4,
  "nbformat_minor": 0
}
